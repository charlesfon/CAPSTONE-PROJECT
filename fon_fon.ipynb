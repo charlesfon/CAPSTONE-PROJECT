{
 "cells": [
  {
   "cell_type": "code",
   "execution_count": 1,
   "id": "14508069",
   "metadata": {},
   "outputs": [],
   "source": [
    "import pandas as pd\n",
    "import numpy as np"
   ]
  },
  {
   "cell_type": "code",
   "execution_count": 2,
   "id": "380100ea",
   "metadata": {},
   "outputs": [],
   "source": [
    "df=pd.read_csv('Police_Arrests_20240702.csv')"
   ]
  },
  {
   "cell_type": "code",
   "execution_count": 3,
   "id": "94c7de9f",
   "metadata": {},
   "outputs": [
    {
     "name": "stdout",
     "output_type": "stream",
     "text": [
      "       ID Reference Number           Subject's race Subject's gender  \\\n",
      "0                         1                   Asian             Male   \n",
      "1                         2  Black/African American             Male   \n",
      "2                         3  Black/African American             Male   \n",
      "3                         4  Black/African American             Male   \n",
      "4                         5                   White           Female   \n",
      "...                     ...                     ...              ...   \n",
      "23505                 23506  Black/African American             Male   \n",
      "23506                 23507                   Asian             Male   \n",
      "23507                 23508                   White             Male   \n",
      "23508                 23509                   White             Male   \n",
      "23509                 23510  Black/African American             Male   \n",
      "\n",
      "       Subject's age     Ethnicity  District of occurrence  \\\n",
      "0                 43  NON-HISPANIC                     6.0   \n",
      "1                 23  NON-HISPANIC                     1.0   \n",
      "2                 18  NON-HISPANIC                     1.0   \n",
      "3                 21  NON-HISPANIC                     1.0   \n",
      "4                 38      HISPANIC                     4.0   \n",
      "...              ...           ...                     ...   \n",
      "23505             30  NON-HISPANIC                     3.0   \n",
      "23506             60  NON-HISPANIC                     3.0   \n",
      "23507             22      HISPANIC                     4.0   \n",
      "23508             25      HISPANIC                     4.0   \n",
      "23509             24  NON-HISPANIC                     3.0   \n",
      "\n",
      "       Adjacent to School Assigned Division Assigned Bureau  Event Date/Time  \n",
      "0                       0               TOD             FSB    1/1/2021 1:07  \n",
      "1                       0              RCPD             NaN    1/1/2021 0:52  \n",
      "2                       0              RCPD             NaN    1/1/2021 0:52  \n",
      "3                       0              RCPD             NaN    1/1/2021 0:52  \n",
      "4                       0               TOD             FSB    1/1/2021 3:00  \n",
      "...                   ...               ...             ...              ...  \n",
      "23505                   0                3D             PSB  6/30/2024 11:00  \n",
      "23506                   0                3D             PSB    7/1/2024 7:27  \n",
      "23507                   0                2D             PSB   6/29/2024 2:42  \n",
      "23508                   0                2D             PSB   6/29/2024 2:42  \n",
      "23509                   0                3D             PSB   7/1/2024 16:23  \n",
      "\n",
      "[23510 rows x 10 columns]\n"
     ]
    }
   ],
   "source": [
    "print(df)"
   ]
  },
  {
   "cell_type": "code",
   "execution_count": 4,
   "id": "e78369ca",
   "metadata": {},
   "outputs": [
    {
     "name": "stdout",
     "output_type": "stream",
     "text": [
      "<bound method NDFrame.head of        ID Reference Number           Subject's race Subject's gender  \\\n",
      "0                         1                   Asian             Male   \n",
      "1                         2  Black/African American             Male   \n",
      "2                         3  Black/African American             Male   \n",
      "3                         4  Black/African American             Male   \n",
      "4                         5                   White           Female   \n",
      "...                     ...                     ...              ...   \n",
      "23505                 23506  Black/African American             Male   \n",
      "23506                 23507                   Asian             Male   \n",
      "23507                 23508                   White             Male   \n",
      "23508                 23509                   White             Male   \n",
      "23509                 23510  Black/African American             Male   \n",
      "\n",
      "       Subject's age     Ethnicity  District of occurrence  \\\n",
      "0                 43  NON-HISPANIC                     6.0   \n",
      "1                 23  NON-HISPANIC                     1.0   \n",
      "2                 18  NON-HISPANIC                     1.0   \n",
      "3                 21  NON-HISPANIC                     1.0   \n",
      "4                 38      HISPANIC                     4.0   \n",
      "...              ...           ...                     ...   \n",
      "23505             30  NON-HISPANIC                     3.0   \n",
      "23506             60  NON-HISPANIC                     3.0   \n",
      "23507             22      HISPANIC                     4.0   \n",
      "23508             25      HISPANIC                     4.0   \n",
      "23509             24  NON-HISPANIC                     3.0   \n",
      "\n",
      "       Adjacent to School Assigned Division Assigned Bureau  Event Date/Time  \n",
      "0                       0               TOD             FSB    1/1/2021 1:07  \n",
      "1                       0              RCPD             NaN    1/1/2021 0:52  \n",
      "2                       0              RCPD             NaN    1/1/2021 0:52  \n",
      "3                       0              RCPD             NaN    1/1/2021 0:52  \n",
      "4                       0               TOD             FSB    1/1/2021 3:00  \n",
      "...                   ...               ...             ...              ...  \n",
      "23505                   0                3D             PSB  6/30/2024 11:00  \n",
      "23506                   0                3D             PSB    7/1/2024 7:27  \n",
      "23507                   0                2D             PSB   6/29/2024 2:42  \n",
      "23508                   0                2D             PSB   6/29/2024 2:42  \n",
      "23509                   0                3D             PSB   7/1/2024 16:23  \n",
      "\n",
      "[23510 rows x 10 columns]>\n"
     ]
    }
   ],
   "source": [
    "print(df.head)"
   ]
  },
  {
   "cell_type": "code",
   "execution_count": 5,
   "id": "86f24e1c",
   "metadata": {},
   "outputs": [
    {
     "data": {
      "text/html": [
       "<div>\n",
       "<style scoped>\n",
       "    .dataframe tbody tr th:only-of-type {\n",
       "        vertical-align: middle;\n",
       "    }\n",
       "\n",
       "    .dataframe tbody tr th {\n",
       "        vertical-align: top;\n",
       "    }\n",
       "\n",
       "    .dataframe thead th {\n",
       "        text-align: right;\n",
       "    }\n",
       "</style>\n",
       "<table border=\"1\" class=\"dataframe\">\n",
       "  <thead>\n",
       "    <tr style=\"text-align: right;\">\n",
       "      <th></th>\n",
       "      <th>ID Reference Number</th>\n",
       "      <th>Subject's age</th>\n",
       "      <th>District of occurrence</th>\n",
       "      <th>Adjacent to School</th>\n",
       "    </tr>\n",
       "  </thead>\n",
       "  <tbody>\n",
       "    <tr>\n",
       "      <th>count</th>\n",
       "      <td>23510.00000</td>\n",
       "      <td>23510.000000</td>\n",
       "      <td>23408.000000</td>\n",
       "      <td>23510.000000</td>\n",
       "    </tr>\n",
       "    <tr>\n",
       "      <th>mean</th>\n",
       "      <td>11755.50000</td>\n",
       "      <td>31.813143</td>\n",
       "      <td>3.989192</td>\n",
       "      <td>0.085155</td>\n",
       "    </tr>\n",
       "    <tr>\n",
       "      <th>std</th>\n",
       "      <td>6786.89675</td>\n",
       "      <td>12.946909</td>\n",
       "      <td>1.748587</td>\n",
       "      <td>0.279119</td>\n",
       "    </tr>\n",
       "    <tr>\n",
       "      <th>min</th>\n",
       "      <td>1.00000</td>\n",
       "      <td>1.000000</td>\n",
       "      <td>1.000000</td>\n",
       "      <td>0.000000</td>\n",
       "    </tr>\n",
       "    <tr>\n",
       "      <th>25%</th>\n",
       "      <td>5878.25000</td>\n",
       "      <td>22.000000</td>\n",
       "      <td>3.000000</td>\n",
       "      <td>0.000000</td>\n",
       "    </tr>\n",
       "    <tr>\n",
       "      <th>50%</th>\n",
       "      <td>11755.50000</td>\n",
       "      <td>30.000000</td>\n",
       "      <td>4.000000</td>\n",
       "      <td>0.000000</td>\n",
       "    </tr>\n",
       "    <tr>\n",
       "      <th>75%</th>\n",
       "      <td>17632.75000</td>\n",
       "      <td>39.000000</td>\n",
       "      <td>5.000000</td>\n",
       "      <td>0.000000</td>\n",
       "    </tr>\n",
       "    <tr>\n",
       "      <th>max</th>\n",
       "      <td>23510.00000</td>\n",
       "      <td>99.000000</td>\n",
       "      <td>8.000000</td>\n",
       "      <td>1.000000</td>\n",
       "    </tr>\n",
       "  </tbody>\n",
       "</table>\n",
       "</div>"
      ],
      "text/plain": [
       "       ID Reference Number   Subject's age  District of occurrence  \\\n",
       "count           23510.00000   23510.000000            23408.000000   \n",
       "mean            11755.50000      31.813143                3.989192   \n",
       "std              6786.89675      12.946909                1.748587   \n",
       "min                 1.00000       1.000000                1.000000   \n",
       "25%              5878.25000      22.000000                3.000000   \n",
       "50%             11755.50000      30.000000                4.000000   \n",
       "75%             17632.75000      39.000000                5.000000   \n",
       "max             23510.00000      99.000000                8.000000   \n",
       "\n",
       "       Adjacent to School  \n",
       "count        23510.000000  \n",
       "mean             0.085155  \n",
       "std              0.279119  \n",
       "min              0.000000  \n",
       "25%              0.000000  \n",
       "50%              0.000000  \n",
       "75%              0.000000  \n",
       "max              1.000000  "
      ]
     },
     "execution_count": 5,
     "metadata": {},
     "output_type": "execute_result"
    }
   ],
   "source": [
    "df.describe()"
   ]
  },
  {
   "cell_type": "code",
   "execution_count": 6,
   "id": "3e1d09e5",
   "metadata": {},
   "outputs": [
    {
     "name": "stdout",
     "output_type": "stream",
     "text": [
      "<class 'pandas.core.frame.DataFrame'>\n",
      "RangeIndex: 23510 entries, 0 to 23509\n",
      "Data columns (total 10 columns):\n",
      " #   Column                  Non-Null Count  Dtype  \n",
      "---  ------                  --------------  -----  \n",
      " 0   ID Reference Number     23510 non-null  int64  \n",
      " 1   Subject's race          23510 non-null  object \n",
      " 2   Subject's gender        23510 non-null  object \n",
      " 3   Subject's age           23510 non-null  int64  \n",
      " 4   Ethnicity               23510 non-null  object \n",
      " 5   District of occurrence  23408 non-null  float64\n",
      " 6   Adjacent to School      23510 non-null  int64  \n",
      " 7   Assigned Division       23381 non-null  object \n",
      " 8   Assigned Bureau         18851 non-null  object \n",
      " 9   Event Date/Time         23510 non-null  object \n",
      "dtypes: float64(1), int64(3), object(6)\n",
      "memory usage: 1.8+ MB\n"
     ]
    }
   ],
   "source": [
    "df.info()"
   ]
  },
  {
   "cell_type": "code",
   "execution_count": 7,
   "id": "944a8762",
   "metadata": {},
   "outputs": [
    {
     "name": "stdout",
     "output_type": "stream",
     "text": [
      "<class 'pandas.core.frame.DataFrame'>\n",
      "RangeIndex: 23510 entries, 0 to 23509\n",
      "Data columns (total 10 columns):\n",
      " #   Column                  Non-Null Count  Dtype   \n",
      "---  ------                  --------------  -----   \n",
      " 0   ID Reference Number     23510 non-null  int64   \n",
      " 1   Subject's race          23510 non-null  category\n",
      " 2   Subject's gender        23510 non-null  category\n",
      " 3   Subject's age           23510 non-null  int64   \n",
      " 4   Ethnicity               23510 non-null  category\n",
      " 5   District of occurrence  23408 non-null  float64 \n",
      " 6   Adjacent to School      23510 non-null  int64   \n",
      " 7   Assigned Division       23381 non-null  category\n",
      " 8   Assigned Bureau         18851 non-null  category\n",
      " 9   Event Date/Time         23510 non-null  object  \n",
      "dtypes: category(5), float64(1), int64(3), object(1)\n",
      "memory usage: 1.0+ MB\n",
      "None\n",
      "       ID Reference Number   Subject's age  District of occurrence  \\\n",
      "count           23510.00000   23510.000000            23408.000000   \n",
      "mean            11755.50000      31.813143                3.989192   \n",
      "std              6786.89675      12.946909                1.748587   \n",
      "min                 1.00000       1.000000                1.000000   \n",
      "25%              5878.25000      22.000000                3.000000   \n",
      "50%             11755.50000      30.000000                4.000000   \n",
      "75%             17632.75000      39.000000                5.000000   \n",
      "max             23510.00000      99.000000                8.000000   \n",
      "\n",
      "       Adjacent to School  \n",
      "count        23510.000000  \n",
      "mean             0.085155  \n",
      "std              0.279119  \n",
      "min              0.000000  \n",
      "25%              0.000000  \n",
      "50%              0.000000  \n",
      "75%              0.000000  \n",
      "max              1.000000  \n",
      "                Subject's race Subject's gender     Ethnicity  \\\n",
      "count                    23510            23510         23510   \n",
      "unique                       6                2             2   \n",
      "top     Black/African American             Male  NON-HISPANIC   \n",
      "freq                     11495            18567         16358   \n",
      "\n",
      "       Assigned Division Assigned Bureau  \n",
      "count              23381           18851  \n",
      "unique                24               4  \n",
      "top                   3D             PSB  \n",
      "freq                4331           16309  \n"
     ]
    }
   ],
   "source": [
    "# Convert categorical columns to 'category' dtype\n",
    "categorical_columns = ['Subject\\'s race', 'Subject\\'s gender', 'Ethnicity', 'Assigned Division', 'Assigned Bureau']\n",
    "for col in categorical_columns:\n",
    "    df[col] = df[col].astype('category')\n",
    "\n",
    "# Verify the conversion\n",
    "print(df.info())\n",
    "\n",
    "# Get descriptive statistics for numerical features\n",
    "print(df.describe())\n",
    "\n",
    "# Get descriptive statistics for categorical features\n",
    "print(df.describe(include=['category']))\n"
   ]
  },
  {
   "cell_type": "code",
   "execution_count": 8,
   "id": "dde0c347",
   "metadata": {},
   "outputs": [
    {
     "data": {
      "text/plain": [
       "(23510, 10)"
      ]
     },
     "execution_count": 8,
     "metadata": {},
     "output_type": "execute_result"
    }
   ],
   "source": [
    "df.shape"
   ]
  },
  {
   "cell_type": "code",
   "execution_count": 9,
   "id": "5adebf43",
   "metadata": {},
   "outputs": [
    {
     "name": "stdout",
     "output_type": "stream",
     "text": [
      "Original Dataset:\n",
      "    ID Reference Number          Subject's race Subject's gender  \\\n",
      "0                    1                   Asian             Male   \n",
      "1                    2  Black/African American             Male   \n",
      "2                    3  Black/African American             Male   \n",
      "3                    4  Black/African American             Male   \n",
      "4                    5                   White           Female   \n",
      "\n",
      "   Subject's age     Ethnicity  District of occurrence  Adjacent to School  \\\n",
      "0             43  NON-HISPANIC                     6.0                   0   \n",
      "1             23  NON-HISPANIC                     1.0                   0   \n",
      "2             18  NON-HISPANIC                     1.0                   0   \n",
      "3             21  NON-HISPANIC                     1.0                   0   \n",
      "4             38      HISPANIC                     4.0                   0   \n",
      "\n",
      "  Assigned Division Assigned Bureau Event Date/Time  \n",
      "0               TOD             FSB   1/1/2021 1:07  \n",
      "1              RCPD            None   1/1/2021 0:52  \n",
      "2              RCPD            None   1/1/2021 0:52  \n",
      "3              RCPD            None   1/1/2021 0:52  \n",
      "4               TOD             FSB   1/1/2021 3:00  \n",
      "Dataset without Categorical Columns:\n",
      "    ID Reference Number  Subject's age  District of occurrence  \\\n",
      "0                    1             43                     6.0   \n",
      "1                    2             23                     1.0   \n",
      "2                    3             18                     1.0   \n",
      "3                    4             21                     1.0   \n",
      "4                    5             38                     4.0   \n",
      "\n",
      "   Adjacent to School  \n",
      "0                   0  \n",
      "1                   0  \n",
      "2                   0  \n",
      "3                   0  \n",
      "4                   0  \n"
     ]
    }
   ],
   "source": [
    "import pandas as pd\n",
    "\n",
    "# Example dataset (replace this with the path to your dataset)\n",
    "data = {\n",
    "    \"ID Reference Number\": [1, 2, 3, 4, 5],\n",
    "    \"Subject's race\": ['Asian', 'Black/African American', 'Black/African American', 'Black/African American', 'White'],\n",
    "    \"Subject's gender\": ['Male', 'Male', 'Male', 'Male', 'Female'],\n",
    "    \"Subject's age\": [43, 23, 18, 21, 38],\n",
    "    \"Ethnicity\": ['NON-HISPANIC', 'NON-HISPANIC', 'NON-HISPANIC', 'NON-HISPANIC', 'HISPANIC'],\n",
    "    \"District of occurrence\": [6.0, 1.0, 1.0, 1.0, 4.0],\n",
    "    \"Adjacent to School\": [0, 0, 0, 0, 0],\n",
    "    \"Assigned Division\": ['TOD', 'RCPD', 'RCPD', 'RCPD', 'TOD'],\n",
    "    \"Assigned Bureau\": ['FSB', None, None, None, 'FSB'],\n",
    "    \"Event Date/Time\": ['1/1/2021 1:07', '1/1/2021 0:52', '1/1/2021 0:52', '1/1/2021 0:52', '1/1/2021 3:00']\n",
    "}\n",
    "\n",
    "# Convert to DataFrame\n",
    "df = pd.DataFrame(data)\n",
    "\n",
    "# Display the original dataset\n",
    "print(\"Original Dataset:\\n\", df.head())\n",
    "\n",
    "# Identify categorical columns\n",
    "categorical_columns = df.select_dtypes(include=['category', 'object']).columns\n",
    "\n",
    "# Remove categorical columns\n",
    "df_numeric = df.drop(columns=categorical_columns)\n",
    "\n",
    "# Display the dataset without categorical columns\n",
    "print(\"Dataset without Categorical Columns:\\n\", df_numeric.head())\n"
   ]
  },
  {
   "cell_type": "code",
   "execution_count": 10,
   "id": "fb1904e8",
   "metadata": {},
   "outputs": [
    {
     "data": {
      "text/plain": [
       "0    False\n",
       "1    False\n",
       "2    False\n",
       "3    False\n",
       "4    False\n",
       "dtype: bool"
      ]
     },
     "execution_count": 10,
     "metadata": {},
     "output_type": "execute_result"
    }
   ],
   "source": [
    " #let check for duplicates values( no duplicates values)\n",
    "df.duplicated()"
   ]
  },
  {
   "cell_type": "code",
   "execution_count": 11,
   "id": "096d0d4a",
   "metadata": {},
   "outputs": [
    {
     "name": "stdout",
     "output_type": "stream",
     "text": [
      "Dataset without Categorical Columns:\n",
      "    ID Reference Number  Subject's age  District of occurrence  \\\n",
      "0                    1             43                     6.0   \n",
      "1                    2             23                     1.0   \n",
      "2                    3             18                     1.0   \n",
      "3                    4             21                     1.0   \n",
      "4                    5             38                     4.0   \n",
      "\n",
      "   Adjacent to School  \n",
      "0                   0  \n",
      "1                   0  \n",
      "2                   0  \n",
      "3                   0  \n",
      "4                   0  \n"
     ]
    }
   ],
   "source": [
    "import pandas as pd\n",
    "\n",
    "\n",
    "\n",
    "# Identify categorical columns\n",
    "categorical_columns = df.select_dtypes(include=['category', 'object']).columns\n",
    "\n",
    "# Remove categorical columns\n",
    "df_numeric = df.drop(columns=categorical_columns)\n",
    "\n",
    "# Display the first few rows of the dataset without categorical columns\n",
    "print(\"Dataset without Categorical Columns:\\n\", df_numeric.head())\n"
   ]
  },
  {
   "cell_type": "code",
   "execution_count": 12,
   "id": "3579ad29",
   "metadata": {},
   "outputs": [
    {
     "name": "stdout",
     "output_type": "stream",
     "text": [
      "ID Reference Number       0\n",
      "Subject's race            0\n",
      "Subject's gender          0\n",
      "Subject's age             0\n",
      "Ethnicity                 0\n",
      "District of occurrence    0\n",
      "Adjacent to School        0\n",
      "Assigned Division         0\n",
      "Assigned Bureau           3\n",
      "Event Date/Time           0\n",
      "dtype: int64\n",
      "ID Reference Number       0\n",
      "Subject's race            0\n",
      "Subject's gender          0\n",
      "Subject's age             0\n",
      "Ethnicity                 0\n",
      "District of occurrence    0\n",
      "Adjacent to School        0\n",
      "Assigned Division         0\n",
      "Assigned Bureau           0\n",
      "Event Date/Time           0\n",
      "dtype: int64\n"
     ]
    }
   ],
   "source": [
    "# Check for missing values\n",
    "print(df.isnull().sum())\n",
    "\n",
    "# Example of handling missing values (filling with mode for categorical columns and mean for numerical columns)\n",
    "for col in categorical_columns:\n",
    "    df[col].fillna(df[col].mode()[0], inplace=True)\n",
    "\n",
    "# Handle numerical columns similarly if needed\n",
    "numerical_columns = ['District of occurrence']\n",
    "for col in numerical_columns:\n",
    "    df[col].fillna(df[col].mean(), inplace=True)\n",
    "\n",
    "# Verify no missing values\n",
    "print(df.isnull().sum())\n"
   ]
  },
  {
   "cell_type": "code",
   "execution_count": 13,
   "id": "dce4e047",
   "metadata": {},
   "outputs": [
    {
     "data": {
      "text/plain": [
       "ID Reference Number       0.0\n",
       "Subject's race            0.0\n",
       "Subject's gender          0.0\n",
       "Subject's age             0.0\n",
       "Ethnicity                 0.0\n",
       "District of occurrence    0.0\n",
       "Adjacent to School        0.0\n",
       "Assigned Division         0.0\n",
       "Assigned Bureau           0.0\n",
       "Event Date/Time           0.0\n",
       "dtype: float64"
      ]
     },
     "execution_count": 13,
     "metadata": {},
     "output_type": "execute_result"
    }
   ],
   "source": [
    "#calculate the percentage of missing values in each column\n",
    "(df.isnull().sum()/(len(df)))*100"
   ]
  },
  {
   "cell_type": "code",
   "execution_count": 14,
   "id": "8d2a638a",
   "metadata": {},
   "outputs": [
    {
     "name": "stdout",
     "output_type": "stream",
     "text": [
      "<class 'pandas.core.frame.DataFrame'>\n",
      "RangeIndex: 5 entries, 0 to 4\n",
      "Data columns (total 10 columns):\n",
      " #   Column                  Non-Null Count  Dtype  \n",
      "---  ------                  --------------  -----  \n",
      " 0   ID Reference Number     5 non-null      int64  \n",
      " 1   Subject's race          5 non-null      object \n",
      " 2   Subject's gender        5 non-null      object \n",
      " 3   Subject's age           5 non-null      int64  \n",
      " 4   Ethnicity               5 non-null      object \n",
      " 5   District of occurrence  5 non-null      float64\n",
      " 6   Adjacent to School      5 non-null      int64  \n",
      " 7   Assigned Division       5 non-null      object \n",
      " 8   Assigned Bureau         5 non-null      object \n",
      " 9   Event Date/Time         5 non-null      object \n",
      "dtypes: float64(1), int64(3), object(6)\n",
      "memory usage: 532.0+ bytes\n"
     ]
    }
   ],
   "source": [
    "df.info()"
   ]
  },
  {
   "cell_type": "code",
   "execution_count": 15,
   "id": "0a7de4e0",
   "metadata": {},
   "outputs": [
    {
     "name": "stdout",
     "output_type": "stream",
     "text": [
      "   ID Reference Number Subject's race Subject's gender  Subject's age  \\\n",
      "0                    1              0                1              4   \n",
      "1                    2              1                1              2   \n",
      "2                    3              1                1              0   \n",
      "3                    4              1                1              1   \n",
      "4                    5              2                0              3   \n",
      "\n",
      "  Ethnicity  District of occurrence  Adjacent to School Assigned Division  \\\n",
      "0         1                     6.0                   0                 1   \n",
      "1         1                     1.0                   0                 0   \n",
      "2         1                     1.0                   0                 0   \n",
      "3         1                     1.0                   0                 0   \n",
      "4         0                     4.0                   0                 1   \n",
      "\n",
      "  Assigned Bureau Event Date/Time  \n",
      "0             FSB               1  \n",
      "1             FSB               0  \n",
      "2             FSB               0  \n",
      "3             FSB               0  \n",
      "4             FSB               2  \n"
     ]
    }
   ],
   "source": [
    "from sklearn.preprocessing import LabelEncoder\n",
    "le = LabelEncoder()\n",
    "df.iloc[:,1] = le.fit_transform(df.iloc[:,1]) \n",
    "df.iloc[:,2] = le.fit_transform(df.iloc[:,2]) \n",
    "df.iloc[:,3] = le.fit_transform(df.iloc[:,3]) \n",
    "df.iloc[:,4] = le.fit_transform(df.iloc[:,4])  \n",
    "df.iloc[:,6] = le.fit_transform(df.iloc[:,6]) \n",
    "df.iloc[:,7] = le.fit_transform(df.iloc[:,7]) \n",
    "df.iloc[:,9] = le.fit_transform(df.iloc[:,9]) \n",
    " \n",
    "print(df)"
   ]
  },
  {
   "cell_type": "code",
   "execution_count": null,
   "id": "00b44a00",
   "metadata": {},
   "outputs": [],
   "source": []
  },
  {
   "cell_type": "code",
   "execution_count": null,
   "id": "05d993e6",
   "metadata": {},
   "outputs": [],
   "source": []
  },
  {
   "cell_type": "code",
   "execution_count": null,
   "id": "8e6848dd",
   "metadata": {},
   "outputs": [],
   "source": []
  },
  {
   "cell_type": "code",
   "execution_count": null,
   "id": "8945608d",
   "metadata": {},
   "outputs": [],
   "source": []
  }
 ],
 "metadata": {
  "kernelspec": {
   "display_name": "Python 3 (ipykernel)",
   "language": "python",
   "name": "python3"
  },
  "language_info": {
   "codemirror_mode": {
    "name": "ipython",
    "version": 3
   },
   "file_extension": ".py",
   "mimetype": "text/x-python",
   "name": "python",
   "nbconvert_exporter": "python",
   "pygments_lexer": "ipython3",
   "version": "3.11.5"
  }
 },
 "nbformat": 4,
 "nbformat_minor": 5
}
